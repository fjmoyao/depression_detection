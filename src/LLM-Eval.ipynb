{
 "cells": [
  {
   "cell_type": "code",
   "execution_count": 1,
   "metadata": {},
   "outputs": [],
   "source": [
    "from groq import Groq\n",
    "from dotenv import load_dotenv\n",
    "import os\n",
    "import pandas as pd\n",
    "from pathlib import Path\n",
    "from pydantic import BaseModel, ValidationError, conint\n",
    "from sklearn.metrics import f1_score\n"
   ]
  },
  {
   "cell_type": "code",
   "execution_count": 2,
   "metadata": {},
   "outputs": [],
   "source": [
    "# Load environment variables from .env file\n",
    "load_dotenv()\n",
    "\n",
    "# Define Pydantic model for response validation\n",
    "class ClassificationResponse(BaseModel):\n",
    "    label: conint(strict=True, ge=0, le=1)"
   ]
  },
  {
   "cell_type": "code",
   "execution_count": 3,
   "metadata": {},
   "outputs": [],
   "source": [
    "# Function to classify text and validate response\n",
    "def classify_text(text):\n",
    "    chat_completion = client.chat.completions.create(\n",
    "        messages=[\n",
    "            {\"role\": \"system\", \"content\": \"You are a classification model that labels text as 1 for stress and 0 for non-stress. You must respond with only a single digit, 1 or 0.\"},\n",
    "            {\"role\": \"user\", \"content\": f\"Classify the following text as 1 for stress and 0 for non-stress: '{text}'\\nLabel:\"}\n",
    "        ],\n",
    "        max_tokens=1,\n",
    "        temperature=0,\n",
    "        model=\"LLaMA3-70b-8192\",\n",
    "    )\n",
    "    response = chat_completion.choices[0].message.content.strip()\n",
    "    try:\n",
    "        # Validate response using Pydantic\n",
    "        validated_response = ClassificationResponse(label=int(response))\n",
    "        return validated_response.label\n",
    "    except (ValidationError, ValueError):\n",
    "        # Handle unexpected responses\n",
    "        return None"
   ]
  },
  {
   "cell_type": "code",
   "execution_count": 13,
   "metadata": {},
   "outputs": [],
   "source": [
    "# Function to classify text and validate response\n",
    "def classify_text_enhanced_prompt(text):\n",
    "    chat_completion = client.chat.completions.create(\n",
    "        messages=[\n",
    "            {\"role\": \"system\", \"content\": \"\"\"\n",
    "                You are a classification model that labels text as 1 for stress and 0 for non-stress.\n",
    "                Examples of stress:\n",
    "                - 'it’s been a terrible struggle the last few years. we have never asked for help from anyone, though. we are hard working and we are proud of our family, and who we are as people. it’s hard to ask for help. but- sometimes we need help too.'\n",
    "                - 'so my roommate recently moved out and our apartment is pretty empty and ever since she moved out i’ve had the worst anxiety attacks and have been kinda depending on my boyfriend and spending time with him to distract me but he works night and that’s when my anxiety is the absolute worst. everything flutters through my head. like i think i’m annoying him by asking him to spend so much time with me?? (he’s never expressed this. he’s actually expressed the complete opposite which is nice) but i feel like i’m being too clingy and too annoying leading me to want to spend some alone time in my apartment but my apartment just makes me more sad because i’m alone and i feel useless like no one care???'\n",
    "                Examples of non-stress:\n",
    "                - 'the few gal friends i associate with are either in relationships or kind of just brush me off or fake like they want to hang out but really don’t when the time comes. my school has no clubs whatsoever, so i can’t really meet anybody that way. i do go to a fairly small school though, around 7,000 students. i always wanted to be in that group that always hangs out. so i honestly don’t know what to do or how to go about this situation.'\n",
    "                - \"i wanted this addressed and my advocate said the next prosecutor taking over my case was great, so don't worry. now in april of this year i got a call from my attorney from the protection order case. my ex's attorney had contacted her to ask why i hadn't dismissed the case like i'd offered originally. he hadn't brought this up in half a dozen trials, and even provided forged documents to prove my ex's innocence. he had finally requested discovery, seen the actual records and asked for dismissal.\"\n",
    "                You must respond with only a single digit, 1 or 0.\n",
    "            \"\"\"},\n",
    "            {\"role\": \"user\", \"content\": f\"Classify the following text as 1 for stress and 0 for non-stress: '{text}'\\nLabel:\"}\n",
    "        ],\n",
    "        max_tokens=1,\n",
    "        temperature=0,\n",
    "        model=\"LLaMA3-70b-8192\",\n",
    "    )\n",
    "    response = chat_completion.choices[0].message.content.strip()\n",
    "    try:\n",
    "        # Validate response using Pydantic\n",
    "        validated_response = ClassificationResponse(label=int(response))\n",
    "        return validated_response.label\n",
    "    except (ValidationError, ValueError):\n",
    "        # Handle unexpected responses\n",
    "        return None"
   ]
  },
  {
   "cell_type": "code",
   "execution_count": 4,
   "metadata": {},
   "outputs": [],
   "source": [
    "# Initialize Groq client\n",
    "client = Groq(api_key=os.environ.get(\"GROQ_API_KEY\"))"
   ]
  },
  {
   "cell_type": "code",
   "execution_count": 5,
   "metadata": {},
   "outputs": [],
   "source": [
    "# Define the path to the data\n",
    "data_path = Path(os.getcwd()).parent / \"data\" / \"silver\"\n",
    "\n",
    "# Load the dataset\n",
    "df = pd.read_csv(os.path.join(data_path, 'dreadditCleanTest.csv'))\n",
    "\n",
    "# Example texts for testing\n",
    "texts = [\n",
    "    \"hello my name is jake i am 17 years old and i need some help i'll give you a bit of back story ever since i was 5 my mother was always drunk everdently she was an alcoholic and whenever she was drunk she got very agressive and to cut a long story short she abused me for over 8 years not only physically but mentally too and when i was 15 i finally spoke out and went to turn to the authorities but they didn't help they sent me back to my mum countless times and in then end i put myself into care i refused to go back i have been in care for a year and a couple months now but ever since just before chirstmas i've been having these night terrors ( which i have reason to believe that it is ptsd ) i have viscous flash backs of my mother doing all them things too me and i wake up screaming , sweating , and as a instinct ready to fight and it lasts for a good 15 mins which is horrible what i'm trying to get at is , is there any coping mechanisms that you can suggest because i feel useless and helpless at this point\",\n",
    "    \"i know what it means to dive into oneself. i asked him and he confirmed its a deeper variant. i got excited. there’s no switching out of consciousness, you can reject what he says, your totally in control (or so he’s telling me :)). so the first part was getting me deep, through counting, dropping my hand and other techniques i went deep.\"\n",
    "]"
   ]
  },
  {
   "cell_type": "code",
   "execution_count": 6,
   "metadata": {},
   "outputs": [
    {
     "name": "stdout",
     "output_type": "stream",
     "text": [
      "Text: hello my name is jake i am 17 years old and i need some help i'll give you a bit of back story ever since i was 5 my mother was always drunk everdently she was an alcoholic and whenever she was drunk she got very agressive and to cut a long story short she abused me for over 8 years not only physically but mentally too and when i was 15 i finally spoke out and went to turn to the authorities but they didn't help they sent me back to my mum countless times and in then end i put myself into care i refused to go back i have been in care for a year and a couple months now but ever since just before chirstmas i've been having these night terrors ( which i have reason to believe that it is ptsd ) i have viscous flash backs of my mother doing all them things too me and i wake up screaming , sweating , and as a instinct ready to fight and it lasts for a good 15 mins which is horrible what i'm trying to get at is , is there any coping mechanisms that you can suggest because i feel useless and helpless at this point\n",
      "Label: 1\n",
      "\n",
      "Text: i know what it means to dive into oneself. i asked him and he confirmed its a deeper variant. i got excited. there’s no switching out of consciousness, you can reject what he says, your totally in control (or so he’s telling me :)). so the first part was getting me deep, through counting, dropping my hand and other techniques i went deep.\n",
      "Label: 0\n",
      "\n"
     ]
    }
   ],
   "source": [
    "# Classify each text\n",
    "#for text in texts:\n",
    "#    label = classify_text(text)\n",
    "#    print(f\"Text: {text}\\nLabel: {label}\\n\")\n"
   ]
  },
  {
   "cell_type": "code",
   "execution_count": 7,
   "metadata": {},
   "outputs": [],
   "source": [
    "# Apply classification to the dataframe\n",
    "df[\"y_pred\"] = df.text.apply(classify_text)"
   ]
  },
  {
   "cell_type": "code",
   "execution_count": 15,
   "metadata": {},
   "outputs": [],
   "source": [
    "# Apply classification to the dataframe\n",
    "df[\"y_pred_enhanced\"] = df.text.apply(classify_text_enhanced_prompt)"
   ]
  },
  {
   "cell_type": "code",
   "execution_count": 2,
   "metadata": {},
   "outputs": [],
   "source": [
    "import pandas as pd\n",
    "from sklearn.metrics import f1_score, recall_score, precision_score, confusion_matrix\n",
    "import seaborn as sns\n",
    "import matplotlib.pyplot as plt\n",
    "\n",
    "def report_results(y: pd.Series, y_pred: pd.Series):\n",
    "    fscore = f1_score(y, y_pred, average='binary')\n",
    "    recall = recall_score(y, y_pred, average='binary')\n",
    "    precision = precision_score(y, y_pred, average='binary')\n",
    "    conf_matrix = confusion_matrix(y, y_pred)\n",
    "    \n",
    "    # Plot the confusion matrix\n",
    "    plt.figure(figsize=(8, 6))\n",
    "    sns.heatmap(conf_matrix, annot=True, fmt='d', cmap='Blues', xticklabels=['Predicted 0', 'Predicted 1'], yticklabels=['Actual 0', 'Actual 1'])\n",
    "    plt.xlabel('Predicted Labels')\n",
    "    plt.ylabel('Actual Labels')\n",
    "    plt.title('Confusion Matrix')\n",
    "    plt.show()\n",
    "    \n",
    "    return fscore, recall, precision, conf_matrix\n",
    "    \n",
    "\n"
   ]
  },
  {
   "cell_type": "code",
   "execution_count": 17,
   "metadata": {},
   "outputs": [
    {
     "data": {
      "image/png": "[encoded data removed]",
      "text/plain": [
       "<Figure size 800x600 with 2 Axes>"
      ]
     },
     "metadata": {},
     "output_type": "display_data"
    },
    {
     "name": "stdout",
     "output_type": "stream",
     "text": [
      "F1 Score: 0.7427385892116183\n",
      "Recall: 0.9944444444444445\n",
      "Precision: 0.5927152317880795\n",
      "Confusion Matrix:\n",
      "[[ 52 123]\n",
      " [  1 179]]\n"
     ]
    }
   ],
   "source": [
    "fscore, recall, precision, conf_matrix = report_results(df[\"label\"], df[\"y_pred\"])\n",
    "\n",
    "print(f\"F1 Score: {fscore}\")\n",
    "print(f\"Recall: {recall}\")\n",
    "print(f\"Precision: {precision}\")\n",
    "print(f\"Confusion Matrix:\\n{conf_matrix}\")"
   ]
  },
  {
   "cell_type": "code",
   "execution_count": 3,
   "metadata": {},
   "outputs": [
    {
     "ename": "NameError",
     "evalue": "name 'df' is not defined",
     "output_type": "error",
     "traceback": [
      "\u001b[1;31m---------------------------------------------------------------------------\u001b[0m",
      "\u001b[1;31mNameError\u001b[0m                                 Traceback (most recent call last)",
      "Cell \u001b[1;32mIn[3], line 1\u001b[0m\n\u001b[1;32m----> 1\u001b[0m fscore, recall, precision, conf_matrix \u001b[38;5;241m=\u001b[39m report_results(\u001b[43mdf\u001b[49m[\u001b[38;5;124m\"\u001b[39m\u001b[38;5;124mlabel\u001b[39m\u001b[38;5;124m\"\u001b[39m], df[\u001b[38;5;124m\"\u001b[39m\u001b[38;5;124my_pred_enhanced\u001b[39m\u001b[38;5;124m\"\u001b[39m])\n\u001b[0;32m      3\u001b[0m \u001b[38;5;28mprint\u001b[39m(\u001b[38;5;124mf\u001b[39m\u001b[38;5;124m\"\u001b[39m\u001b[38;5;124mF1 Score: \u001b[39m\u001b[38;5;132;01m{\u001b[39;00mfscore\u001b[38;5;132;01m}\u001b[39;00m\u001b[38;5;124m\"\u001b[39m)\n\u001b[0;32m      4\u001b[0m \u001b[38;5;28mprint\u001b[39m(\u001b[38;5;124mf\u001b[39m\u001b[38;5;124m\"\u001b[39m\u001b[38;5;124mRecall: \u001b[39m\u001b[38;5;132;01m{\u001b[39;00mrecall\u001b[38;5;132;01m}\u001b[39;00m\u001b[38;5;124m\"\u001b[39m)\n",
      "\u001b[1;31mNameError\u001b[0m: name 'df' is not defined"
     ]
    }
   ],
   "source": [
    "fscore, recall, precision, conf_matrix = report_results(df[\"label\"], df[\"y_pred_enhanced\"])\n",
    "\n",
    "print(f\"F1 Score: {fscore}\")\n",
    "print(f\"Recall: {recall}\")\n",
    "print(f\"Precision: {precision}\")\n",
    "print(f\"Confusion Matrix:\\n{conf_matrix}\")"
   ]
  },
  {
   "cell_type": "code",
   "execution_count": 21,
   "metadata": {},
   "outputs": [
    {
     "data": {
      "text/plain": [
       "label\n",
       "1    180\n",
       "0    175\n",
       "Name: count, dtype: int64"
      ]
     },
     "execution_count": 21,
     "metadata": {},
     "output_type": "execute_result"
    }
   ],
   "source": [
    "# Plot the confusion matrix\n",
    "plt.figure(figsize=(8, 6))\n",
    "sns.heatmap(conf_matrix, annot=True, fmt='d', cmap='Blues', xticklabels=['Predicted 0', 'Predicted 1'], yticklabels=['Actual 0', 'Actual 1'])\n",
    "plt.xlabel('Predicted Labels')\n",
    "plt.ylabel('Actual Labels')\n",
    "plt.title(' RoBERTa Confusion Matrix')\n",
    "plt.show()"
   ]
  }
 ],
 "metadata": {
  "kernelspec": {
   "display_name": "tesis",
   "language": "python",
   "name": "python3"
  },
  "language_info": {
   "codemirror_mode": {
    "name": "ipython",
    "version": 3
   },
   "file_extension": ".py",
   "mimetype": "text/x-python",
   "name": "python",
   "nbconvert_exporter": "python",
   "pygments_lexer": "ipython3",
   "version": "3.10.14"
  }
 },
 "nbformat": 4,
 "nbformat_minor": 2
}
