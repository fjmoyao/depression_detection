{
 "cells": [
  {
   "cell_type": "code",
   "execution_count": 1,
   "metadata": {},
   "outputs": [
    {
     "name": "stderr",
     "output_type": "stream",
     "text": [
      "c:\\Users\\franc.FJMOYAO\\miniconda3\\envs\\tesis\\lib\\site-packages\\sentence_transformers\\cross_encoder\\CrossEncoder.py:11: TqdmWarning: IProgress not found. Please update jupyter and ipywidgets. See https://ipywidgets.readthedocs.io/en/stable/user_install.html\n",
      "  from tqdm.autonotebook import tqdm, trange\n"
     ]
    }
   ],
   "source": [
    "import pandas as pd\n",
    "from pathlib import Path\n",
    "import os\n",
    "import matplotlib.pyplot as plt\n",
    "import seaborn as sns\n",
    "import spacy\n",
    "from sklearn.feature_extraction.text import TfidfVectorizer\n",
    "import warnings\n",
    "from sklearn.feature_extraction.text import TfidfVectorizer\n",
    "import utils\n",
    "from sentence_transformers import SentenceTransformer\n",
    "import torch\n",
    "warnings.filterwarnings(action='ignore', category=UserWarning)"
   ]
  },
  {
   "cell_type": "code",
   "execution_count": 2,
   "metadata": {},
   "outputs": [],
   "source": [
    "#Se leen los datos y se seleccionan las variables que presentan una diferencia\n",
    "# entre los individuos que presentan estres y los que no\n",
    "data_path = Path(os.getcwd()).parent / \"data\"\n",
    "silver_path = data_path / \"silver\" / \"dreadditCleanTrain.csv\"\n",
    "gold_path = data_path /\"gold\"\n",
    "df = pd.read_csv(silver_path, usecols= [\"text\",\n",
    "                                        \"clean_text\",\n",
    "                                        'avg_word_len', 'lex_diversity',\n",
    "                                        \"label\"])"
   ]
  },
  {
   "cell_type": "code",
   "execution_count": 3,
   "metadata": {},
   "outputs": [
    {
     "data": {
      "text/plain": [
       "<Figure size 640x480 with 0 Axes>"
      ]
     },
     "metadata": {},
     "output_type": "display_data"
    }
   ],
   "source": [
    "#Configuracion de visualizaciones \n",
    "\n",
    "# Configurar el estilo de fondo con una cuadrícula\n",
    "sns.set_style(\"whitegrid\")\n",
    "\n",
    "# Establecer una paleta de colores profesional\n",
    "sns.set_palette(\"pastel\")\n",
    "\n",
    "# Configurar la tipografía y el tamaño de la fuente\n",
    "sns.set_context(\"paper\", font_scale=1.5, rc={\"font.family\": \"sans-serif\", \"font.sans-serif\": [\"Helvetica\", \"Arial\"]})\n",
    "\n",
    "# Desactivar spines innecesarios\n",
    "sns.despine(trim=True, left=True);"
   ]
  },
  {
   "cell_type": "code",
   "execution_count": 4,
   "metadata": {},
   "outputs": [],
   "source": [
    "# Cargar el modelo de SpaCy\n",
    "nlp = spacy.load('en_core_web_sm')"
   ]
  },
  {
   "cell_type": "code",
   "execution_count": 5,
   "metadata": {},
   "outputs": [],
   "source": [
    "# se almacenan todos los textos en una lista\n",
    "texts = df['clean_text'].tolist()\n",
    "\n",
    "# Procesar los textos en lotes\n",
    "docs = nlp.pipe(texts)"
   ]
  },
  {
   "cell_type": "code",
   "execution_count": 6,
   "metadata": {},
   "outputs": [],
   "source": [
    "#Features manuales \n",
    "df_manual = df[[\"avg_word_len\",\"lex_diversity\", \"label\"]]\n",
    "\n",
    "df_manual.to_csv(os.path.join(gold_path,\"manual_features_train.csv\"),index=False)"
   ]
  },
  {
   "cell_type": "code",
   "execution_count": 7,
   "metadata": {},
   "outputs": [],
   "source": [
    "#Features con TF-IDF\n",
    "tfidf = TfidfVectorizer(sublinear_tf=True, min_df=5,\n",
    "                        ngram_range=(1, 3), \n",
    "                        stop_words='english')\n",
    "\n",
    "features = tfidf.fit_transform(df[\"clean_text\"]).toarray()\n",
    "df_tfidf = pd.DataFrame(features)\n",
    "df_tfidf[\"label\"] = df[\"label\"]\n",
    "\n",
    "df_tfidf.to_csv(os.path.join(gold_path,\"tfidf_features_train.csv\"),index=False)"
   ]
  },
  {
   "cell_type": "code",
   "execution_count": 8,
   "metadata": {},
   "outputs": [],
   "source": [
    "device = torch.device('cuda' if torch.cuda.is_available() else 'cpu')\n"
   ]
  },
  {
   "cell_type": "code",
   "execution_count": 9,
   "metadata": {},
   "outputs": [
    {
     "name": "stderr",
     "output_type": "stream",
     "text": [
      "c:\\Users\\franc.FJMOYAO\\miniconda3\\envs\\tesis\\lib\\site-packages\\huggingface_hub\\file_download.py:1132: FutureWarning: `resume_download` is deprecated and will be removed in version 1.0.0. Downloads always resume when possible. If you want to force a new download, use `force_download=True`.\n",
      "  warnings.warn(\n"
     ]
    }
   ],
   "source": [
    "#Features con all-mpnet-base-v2\n",
    "\n",
    "# Se carga el modelo\n",
    "model = SentenceTransformer('sentence-transformers/all-mpnet-base-v2')\n",
    "model = model.to(device)\n",
    "#Se generan los embeddings\n",
    "embeddings = model.encode(df.text)\n",
    "df_mpnet = pd.DataFrame(embeddings)\n",
    "df_mpnet[\"label\"] = df[\"label\"]\n",
    "\n",
    "df_mpnet.to_csv(os.path.join(gold_path,\"mpnet_features_train.csv\"),index=False)"
   ]
  },
  {
   "cell_type": "code",
   "execution_count": 10,
   "metadata": {},
   "outputs": [
    {
     "name": "stderr",
     "output_type": "stream",
     "text": [
      "c:\\Users\\franc.FJMOYAO\\miniconda3\\envs\\tesis\\lib\\site-packages\\huggingface_hub\\file_download.py:1132: FutureWarning: `resume_download` is deprecated and will be removed in version 1.0.0. Downloads always resume when possible. If you want to force a new download, use `force_download=True`.\n",
      "  warnings.warn(\n"
     ]
    }
   ],
   "source": [
    "#Features con distilroberta\n",
    "\n",
    "# Se carga el modelo\n",
    "model = SentenceTransformer('sentence-transformers/all-distilroberta-v1')\n",
    "model = model.to(device)\n",
    "\n",
    "#Se generan los embeddings\n",
    "embeddings = model.encode(df.text)\n",
    "df_distilroberta = pd.DataFrame(embeddings)\n",
    "df_distilroberta[\"label\"] = df[\"label\"]\n",
    "\n",
    "df_distilroberta.to_csv(os.path.join(gold_path,\"distilroberta_features_train.csv\"),index=False)"
   ]
  }
 ],
 "metadata": {
  "kernelspec": {
   "display_name": "tesis",
   "language": "python",
   "name": "python3"
  },
  "language_info": {
   "codemirror_mode": {
    "name": "ipython",
    "version": 3
   },
   "file_extension": ".py",
   "mimetype": "text/x-python",
   "name": "python",
   "nbconvert_exporter": "python",
   "pygments_lexer": "ipython3",
   "version": "3.10.14"
  }
 },
 "nbformat": 4,
 "nbformat_minor": 2
}
