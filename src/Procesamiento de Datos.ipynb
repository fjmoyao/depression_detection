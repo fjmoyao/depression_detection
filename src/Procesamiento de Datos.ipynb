{
 "cells": [
  {
   "cell_type": "code",
   "execution_count": 1,
   "metadata": {},
   "outputs": [],
   "source": [
    "#importacion de librerias\n",
    "import pandas as pd\n",
    "import os \n",
    "from pathlib import Path\n",
    "import utils\n",
    "from sklearn.model_selection import train_test_split\n",
    "import spacy"
   ]
  },
  {
   "cell_type": "code",
   "execution_count": 2,
   "metadata": {},
   "outputs": [
    {
     "name": "stdout",
     "output_type": "stream",
     "text": [
      "Collecting en-core-web-sm==3.7.1\n",
      "  Downloading https://github.com/explosion/spacy-models/releases/download/en_core_web_sm-3.7.1/en_core_web_sm-3.7.1-py3-none-any.whl (12.8 MB)\n",
      "     ---------------------------------------- 0.0/12.8 MB ? eta -:--:--\n",
      "     ---------------------------------------- 0.0/12.8 MB ? eta -:--:--\n",
      "     --------------------------------------- 0.1/12.8 MB 825.8 kB/s eta 0:00:16\n",
      "     - -------------------------------------- 0.3/12.8 MB 2.5 MB/s eta 0:00:05\n",
      "     -- ------------------------------------- 0.7/12.8 MB 4.5 MB/s eta 0:00:03\n",
      "     ---- ----------------------------------- 1.3/12.8 MB 5.5 MB/s eta 0:00:03\n",
      "     ----- ---------------------------------- 1.9/12.8 MB 6.6 MB/s eta 0:00:02\n",
      "     ------- -------------------------------- 2.5/12.8 MB 7.5 MB/s eta 0:00:02\n",
      "     --------- ------------------------------ 3.1/12.8 MB 8.6 MB/s eta 0:00:02\n",
      "     ----------- ---------------------------- 3.6/12.8 MB 8.2 MB/s eta 0:00:02\n",
      "     ------------ --------------------------- 4.1/12.8 MB 8.8 MB/s eta 0:00:01\n",
      "     -------------- ------------------------- 4.5/12.8 MB 8.8 MB/s eta 0:00:01\n",
      "     --------------- ------------------------ 5.1/12.8 MB 9.1 MB/s eta 0:00:01\n",
      "     ----------------- ---------------------- 5.7/12.8 MB 9.4 MB/s eta 0:00:01\n",
      "     ------------------- -------------------- 6.2/12.8 MB 9.2 MB/s eta 0:00:01\n",
      "     -------------------- ------------------- 6.7/12.8 MB 9.1 MB/s eta 0:00:01\n",
      "     ---------------------- ----------------- 7.2/12.8 MB 9.3 MB/s eta 0:00:01\n",
      "     ---------------------- ----------------- 7.2/12.8 MB 9.3 MB/s eta 0:00:01\n",
      "     ----------------------- ---------------- 7.5/12.8 MB 8.5 MB/s eta 0:00:01\n",
      "     ------------------------ --------------- 7.8/12.8 MB 8.5 MB/s eta 0:00:01\n",
      "     ------------------------- -------------- 8.3/12.8 MB 8.6 MB/s eta 0:00:01\n",
      "     --------------------------- ------------ 8.7/12.8 MB 8.5 MB/s eta 0:00:01\n",
      "     ---------------------------- ----------- 9.2/12.8 MB 8.6 MB/s eta 0:00:01\n",
      "     ------------------------------ --------- 9.7/12.8 MB 8.8 MB/s eta 0:00:01\n",
      "     ------------------------------- -------- 10.0/12.8 MB 8.4 MB/s eta 0:00:01\n",
      "     -------------------------------- ------- 10.4/12.8 MB 9.0 MB/s eta 0:00:01\n",
      "     --------------------------------- ------ 10.8/12.8 MB 9.0 MB/s eta 0:00:01\n",
      "     ---------------------------------- ----- 11.0/12.8 MB 9.1 MB/s eta 0:00:01\n",
      "     ----------------------------------- ---- 11.4/12.8 MB 9.0 MB/s eta 0:00:01\n",
      "     ------------------------------------ --- 11.8/12.8 MB 8.7 MB/s eta 0:00:01\n",
      "     ------------------------------------- -- 12.1/12.8 MB 8.5 MB/s eta 0:00:01\n",
      "     -------------------------------------- - 12.4/12.8 MB 8.5 MB/s eta 0:00:01\n",
      "     ---------------------------------------  12.8/12.8 MB 8.4 MB/s eta 0:00:01\n",
      "     ---------------------------------------- 12.8/12.8 MB 8.1 MB/s eta 0:00:00\n",
      "Requirement already satisfied: spacy<3.8.0,>=3.7.2 in c:\\users\\franc\\miniconda3\\envs\\tesis\\lib\\site-packages (from en-core-web-sm==3.7.1) (3.7.4)\n",
      "Requirement already satisfied: spacy-legacy<3.1.0,>=3.0.11 in c:\\users\\franc\\miniconda3\\envs\\tesis\\lib\\site-packages (from spacy<3.8.0,>=3.7.2->en-core-web-sm==3.7.1) (3.0.12)\n",
      "Requirement already satisfied: spacy-loggers<2.0.0,>=1.0.0 in c:\\users\\franc\\miniconda3\\envs\\tesis\\lib\\site-packages (from spacy<3.8.0,>=3.7.2->en-core-web-sm==3.7.1) (1.0.5)\n",
      "Requirement already satisfied: murmurhash<1.1.0,>=0.28.0 in c:\\users\\franc\\miniconda3\\envs\\tesis\\lib\\site-packages (from spacy<3.8.0,>=3.7.2->en-core-web-sm==3.7.1) (1.0.10)\n",
      "Requirement already satisfied: cymem<2.1.0,>=2.0.2 in c:\\users\\franc\\miniconda3\\envs\\tesis\\lib\\site-packages (from spacy<3.8.0,>=3.7.2->en-core-web-sm==3.7.1) (2.0.8)\n",
      "Requirement already satisfied: preshed<3.1.0,>=3.0.2 in c:\\users\\franc\\miniconda3\\envs\\tesis\\lib\\site-packages (from spacy<3.8.0,>=3.7.2->en-core-web-sm==3.7.1) (3.0.9)\n",
      "Requirement already satisfied: thinc<8.3.0,>=8.2.2 in c:\\users\\franc\\miniconda3\\envs\\tesis\\lib\\site-packages (from spacy<3.8.0,>=3.7.2->en-core-web-sm==3.7.1) (8.2.3)\n",
      "Requirement already satisfied: wasabi<1.2.0,>=0.9.1 in c:\\users\\franc\\miniconda3\\envs\\tesis\\lib\\site-packages (from spacy<3.8.0,>=3.7.2->en-core-web-sm==3.7.1) (1.1.2)\n",
      "Requirement already satisfied: srsly<3.0.0,>=2.4.3 in c:\\users\\franc\\miniconda3\\envs\\tesis\\lib\\site-packages (from spacy<3.8.0,>=3.7.2->en-core-web-sm==3.7.1) (2.4.8)\n",
      "Requirement already satisfied: catalogue<2.1.0,>=2.0.6 in c:\\users\\franc\\miniconda3\\envs\\tesis\\lib\\site-packages (from spacy<3.8.0,>=3.7.2->en-core-web-sm==3.7.1) (2.0.10)\n",
      "Requirement already satisfied: weasel<0.4.0,>=0.1.0 in c:\\users\\franc\\miniconda3\\envs\\tesis\\lib\\site-packages (from spacy<3.8.0,>=3.7.2->en-core-web-sm==3.7.1) (0.3.4)\n",
      "Requirement already satisfied: typer<0.10.0,>=0.3.0 in c:\\users\\franc\\miniconda3\\envs\\tesis\\lib\\site-packages (from spacy<3.8.0,>=3.7.2->en-core-web-sm==3.7.1) (0.9.4)\n",
      "Requirement already satisfied: smart-open<7.0.0,>=5.2.1 in c:\\users\\franc\\miniconda3\\envs\\tesis\\lib\\site-packages (from spacy<3.8.0,>=3.7.2->en-core-web-sm==3.7.1) (6.4.0)\n",
      "Requirement already satisfied: tqdm<5.0.0,>=4.38.0 in c:\\users\\franc\\miniconda3\\envs\\tesis\\lib\\site-packages (from spacy<3.8.0,>=3.7.2->en-core-web-sm==3.7.1) (4.66.2)\n",
      "Requirement already satisfied: requests<3.0.0,>=2.13.0 in c:\\users\\franc\\miniconda3\\envs\\tesis\\lib\\site-packages (from spacy<3.8.0,>=3.7.2->en-core-web-sm==3.7.1) (2.31.0)\n",
      "Requirement already satisfied: pydantic!=1.8,!=1.8.1,<3.0.0,>=1.7.4 in c:\\users\\franc\\miniconda3\\envs\\tesis\\lib\\site-packages (from spacy<3.8.0,>=3.7.2->en-core-web-sm==3.7.1) (2.7.1)\n",
      "Requirement already satisfied: jinja2 in c:\\users\\franc\\miniconda3\\envs\\tesis\\lib\\site-packages (from spacy<3.8.0,>=3.7.2->en-core-web-sm==3.7.1) (3.1.3)\n",
      "Requirement already satisfied: setuptools in c:\\users\\franc\\miniconda3\\envs\\tesis\\lib\\site-packages (from spacy<3.8.0,>=3.7.2->en-core-web-sm==3.7.1) (69.5.1)\n",
      "Requirement already satisfied: packaging>=20.0 in c:\\users\\franc\\miniconda3\\envs\\tesis\\lib\\site-packages (from spacy<3.8.0,>=3.7.2->en-core-web-sm==3.7.1) (24.0)\n",
      "Requirement already satisfied: langcodes<4.0.0,>=3.2.0 in c:\\users\\franc\\miniconda3\\envs\\tesis\\lib\\site-packages (from spacy<3.8.0,>=3.7.2->en-core-web-sm==3.7.1) (3.4.0)\n",
      "Requirement already satisfied: numpy>=1.19.0 in c:\\users\\franc\\miniconda3\\envs\\tesis\\lib\\site-packages (from spacy<3.8.0,>=3.7.2->en-core-web-sm==3.7.1) (1.26.4)\n",
      "Requirement already satisfied: language-data>=1.2 in c:\\users\\franc\\miniconda3\\envs\\tesis\\lib\\site-packages (from langcodes<4.0.0,>=3.2.0->spacy<3.8.0,>=3.7.2->en-core-web-sm==3.7.1) (1.2.0)\n",
      "Requirement already satisfied: annotated-types>=0.4.0 in c:\\users\\franc\\miniconda3\\envs\\tesis\\lib\\site-packages (from pydantic!=1.8,!=1.8.1,<3.0.0,>=1.7.4->spacy<3.8.0,>=3.7.2->en-core-web-sm==3.7.1) (0.6.0)\n",
      "Requirement already satisfied: pydantic-core==2.18.2 in c:\\users\\franc\\miniconda3\\envs\\tesis\\lib\\site-packages (from pydantic!=1.8,!=1.8.1,<3.0.0,>=1.7.4->spacy<3.8.0,>=3.7.2->en-core-web-sm==3.7.1) (2.18.2)\n",
      "Requirement already satisfied: typing-extensions>=4.6.1 in c:\\users\\franc\\miniconda3\\envs\\tesis\\lib\\site-packages (from pydantic!=1.8,!=1.8.1,<3.0.0,>=1.7.4->spacy<3.8.0,>=3.7.2->en-core-web-sm==3.7.1) (4.11.0)\n",
      "Requirement already satisfied: charset-normalizer<4,>=2 in c:\\users\\franc\\miniconda3\\envs\\tesis\\lib\\site-packages (from requests<3.0.0,>=2.13.0->spacy<3.8.0,>=3.7.2->en-core-web-sm==3.7.1) (3.3.2)\n",
      "Requirement already satisfied: idna<4,>=2.5 in c:\\users\\franc\\miniconda3\\envs\\tesis\\lib\\site-packages (from requests<3.0.0,>=2.13.0->spacy<3.8.0,>=3.7.2->en-core-web-sm==3.7.1) (3.7)\n",
      "Requirement already satisfied: urllib3<3,>=1.21.1 in c:\\users\\franc\\miniconda3\\envs\\tesis\\lib\\site-packages (from requests<3.0.0,>=2.13.0->spacy<3.8.0,>=3.7.2->en-core-web-sm==3.7.1) (2.2.1)\n",
      "Requirement already satisfied: certifi>=2017.4.17 in c:\\users\\franc\\miniconda3\\envs\\tesis\\lib\\site-packages (from requests<3.0.0,>=2.13.0->spacy<3.8.0,>=3.7.2->en-core-web-sm==3.7.1) (2024.2.2)\n",
      "Requirement already satisfied: blis<0.8.0,>=0.7.8 in c:\\users\\franc\\miniconda3\\envs\\tesis\\lib\\site-packages (from thinc<8.3.0,>=8.2.2->spacy<3.8.0,>=3.7.2->en-core-web-sm==3.7.1) (0.7.11)\n",
      "Requirement already satisfied: confection<1.0.0,>=0.0.1 in c:\\users\\franc\\miniconda3\\envs\\tesis\\lib\\site-packages (from thinc<8.3.0,>=8.2.2->spacy<3.8.0,>=3.7.2->en-core-web-sm==3.7.1) (0.1.4)\n",
      "Requirement already satisfied: colorama in c:\\users\\franc\\miniconda3\\envs\\tesis\\lib\\site-packages (from tqdm<5.0.0,>=4.38.0->spacy<3.8.0,>=3.7.2->en-core-web-sm==3.7.1) (0.4.6)\n",
      "Requirement already satisfied: click<9.0.0,>=7.1.1 in c:\\users\\franc\\miniconda3\\envs\\tesis\\lib\\site-packages (from typer<0.10.0,>=0.3.0->spacy<3.8.0,>=3.7.2->en-core-web-sm==3.7.1) (8.1.7)\n",
      "Requirement already satisfied: cloudpathlib<0.17.0,>=0.7.0 in c:\\users\\franc\\miniconda3\\envs\\tesis\\lib\\site-packages (from weasel<0.4.0,>=0.1.0->spacy<3.8.0,>=3.7.2->en-core-web-sm==3.7.1) (0.16.0)\n",
      "Requirement already satisfied: MarkupSafe>=2.0 in c:\\users\\franc\\miniconda3\\envs\\tesis\\lib\\site-packages (from jinja2->spacy<3.8.0,>=3.7.2->en-core-web-sm==3.7.1) (2.1.5)\n",
      "Requirement already satisfied: marisa-trie>=0.7.7 in c:\\users\\franc\\miniconda3\\envs\\tesis\\lib\\site-packages (from language-data>=1.2->langcodes<4.0.0,>=3.2.0->spacy<3.8.0,>=3.7.2->en-core-web-sm==3.7.1) (1.1.0)\n",
      "\u001b[38;5;2m✔ Download and installation successful\u001b[0m\n",
      "You can now load the package via spacy.load('en_core_web_sm')\n"
     ]
    }
   ],
   "source": [
    "!python -m spacy download en_core_web_sm"
   ]
  },
  {
   "cell_type": "code",
   "execution_count": 3,
   "metadata": {},
   "outputs": [],
   "source": [
    "#carga de datos \n",
    "data_path = Path(os.getcwd()).parent / \"data\"\n",
    "train_path = data_path / \"bronze\" / \"dreaddit-train.csv\"\n",
    "test_path = data_path / \"bronze\" / \"dreaddit-test.csv\"\n",
    "\n",
    "train = pd.read_csv(train_path, usecols=['text', 'id', 'label'])\n",
    "test =  pd.read_csv(test_path, usecols=['text', 'id', 'label'])\n",
    "df = pd.concat([train,test]).reset_index(drop=True)\n",
    "df[\"text\"] = df[\"text\"].str.lower()"
   ]
  },
  {
   "cell_type": "code",
   "execution_count": 4,
   "metadata": {},
   "outputs": [
    {
     "name": "stdout",
     "output_type": "stream",
     "text": [
      "Hay 3553 registros en el dataset\n"
     ]
    }
   ],
   "source": [
    "print(f\"Hay {df.shape[0]} registros en el dataset\")"
   ]
  },
  {
   "cell_type": "code",
   "execution_count": 5,
   "metadata": {},
   "outputs": [],
   "source": [
    "#Se filtran los textos con solo una palabra\n",
    "df[\"token_count\"] = df.text.apply(lambda x: len(x.split()))\n",
    "ind_tk = df[\"token_count\"] ==1\n",
    "df = df[~ind_tk]"
   ]
  },
  {
   "cell_type": "code",
   "execution_count": 6,
   "metadata": {},
   "outputs": [],
   "source": [
    "# Cargar el modelo de SpaCy\n",
    "nlp = spacy.load('en_core_web_sm')\n",
    "# se almacenan todos los textos en una lista\n",
    "texts = df['text'].tolist()\n",
    "\n",
    "# Procesar los textos en lotes\n",
    "docs = nlp.pipe(texts)\n",
    "#Se remueen las stopwords\n",
    "df[\"clean_text\"]  = [utils.remove_stopwords(doc,lemma=False,remove_stop=True) for doc in docs]"
   ]
  },
  {
   "cell_type": "code",
   "execution_count": 7,
   "metadata": {},
   "outputs": [],
   "source": [
    "\n",
    "#Se eliminan los carateres especiales\n",
    "df[\"clean_text\"]= df[\"text\"].apply(utils.clean_text)\n",
    "#Se eliminan los carateres especiales pero se mantienen los que son cruciales para indicar la separacion de oraciones.\n",
    "df[\"clean_text_sentence_sep\"]= df[\"text\"].apply(utils.clean_text,keep=\"sen\", remove_words =True)\n"
   ]
  },
  {
   "cell_type": "code",
   "execution_count": 8,
   "metadata": {},
   "outputs": [],
   "source": [
    "#Se separan los datos en test y train\n",
    "df_train, df_test= train_test_split(df, test_size=0.1, random_state=42)"
   ]
  },
  {
   "cell_type": "code",
   "execution_count": 9,
   "metadata": {},
   "outputs": [],
   "source": [
    "#Se exportan los datos procesados  a la siguiente capa 'silver'\n",
    "data_path = Path(os.getcwd()).parent / \"data\"\n",
    "train_output_path = data_path / \"silver\" / \"dreadditCleanTrain.csv\"\n",
    "test_output_path = data_path / \"silver\" / \"dreadditCleanTest.csv\"\n",
    "\n",
    "df_train.to_csv(train_output_path, index=False)\n",
    "df_test.to_csv(test_output_path, index= False)"
   ]
  }
 ],
 "metadata": {
  "kernelspec": {
   "display_name": "PDM Environment",
   "language": "python",
   "name": "tesis_pdm"
  },
  "language_info": {
   "codemirror_mode": {
    "name": "ipython",
    "version": 3
   },
   "file_extension": ".py",
   "mimetype": "text/x-python",
   "name": "python",
   "nbconvert_exporter": "python",
   "pygments_lexer": "ipython3",
   "version": "3.10.0"
  }
 },
 "nbformat": 4,
 "nbformat_minor": 2
}
