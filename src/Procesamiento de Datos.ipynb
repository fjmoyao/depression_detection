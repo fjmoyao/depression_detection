{
 "cells": [
  {
   "cell_type": "code",
   "execution_count": 44,
   "metadata": {},
   "outputs": [],
   "source": [
    "#importacion de librerias\n",
    "import pandas as pd\n",
    "import os \n",
    "from pathlib import Path\n",
    "import utils\n",
    "from sklearn.model_selection import train_test_split\n",
    "import spacy"
   ]
  },
  {
   "cell_type": "code",
   "execution_count": 45,
   "metadata": {},
   "outputs": [],
   "source": [
    "#Uncomment this the first time u are running the repo\n",
    "#!python -m spacy download en_core_web_sm"
   ]
  },
  {
   "cell_type": "code",
   "execution_count": 46,
   "metadata": {},
   "outputs": [],
   "source": [
    "#carga de datos \n",
    "data_path = Path(os.getcwd()).parent / \"data\"\n",
    "train_path = data_path / \"bronze\" / \"dreaddit-train.csv\"\n",
    "test_path = data_path / \"bronze\" / \"dreaddit-test.csv\"\n",
    "\n",
    "train = pd.read_csv(train_path, usecols=['text', 'id', 'label'])\n",
    "test =  pd.read_csv(test_path, usecols=['text', 'id', 'label'])\n",
    "df = pd.concat([train,test]).reset_index(drop=True)\n",
    "df[\"text\"] = df[\"text\"].str.lower()"
   ]
  },
  {
   "cell_type": "code",
   "execution_count": 47,
   "metadata": {},
   "outputs": [
    {
     "name": "stdout",
     "output_type": "stream",
     "text": [
      "Hay 3553 registros en el dataset\n"
     ]
    }
   ],
   "source": [
    "print(f\"Hay {df.shape[0]} registros en el dataset\")"
   ]
  },
  {
   "cell_type": "code",
   "execution_count": 48,
   "metadata": {},
   "outputs": [],
   "source": [
    "#Se filtran los textos con solo una palabra\n",
    "df[\"token_count\"] = df.text.apply(lambda x: len(x.split()))\n",
    "ind_tk = df[\"token_count\"] ==1\n",
    "df = df[~ind_tk]"
   ]
  },
  {
   "cell_type": "code",
   "execution_count": 49,
   "metadata": {},
   "outputs": [],
   "source": [
    "# Cargar el modelo de SpaCy\n",
    "nlp = spacy.load('en_core_web_sm')\n",
    "# se almacenan todos los textos en una lista\n",
    "texts = df['text'].tolist()\n",
    "\n",
    "# Procesar los textos en lotes\n",
    "docs = nlp.pipe(texts)\n",
    "#Se remueven las stopwords\n",
    "df[\"clean_text\"]  = [utils.remove_stopwords(doc,lemma=False,remove_stop=True) for doc in docs]"
   ]
  },
  {
   "cell_type": "code",
   "execution_count": 50,
   "metadata": {},
   "outputs": [],
   "source": [
    "\n",
    "#Se eliminan los carateres especiales\n",
    "df[\"clean_text\"]= df[\"clean_text\"].apply(utils.clean_text)\n",
    "#Se eliminan los carateres especiales pero se mantienen los que son cruciales para indicar la separacion de oraciones.\n",
    "df[\"clean_text_sentence_sep\"]= df[\"clean_text\"].apply(utils.clean_text,keep=\"sen\", remove_words =True)\n"
   ]
  },
  {
   "cell_type": "code",
   "execution_count": 51,
   "metadata": {},
   "outputs": [],
   "source": [
    "#Se separan los datos en test y train\n",
    "df_train, df_test= train_test_split(df, test_size=0.1, random_state=42)"
   ]
  },
  {
   "cell_type": "code",
   "execution_count": 52,
   "metadata": {},
   "outputs": [],
   "source": [
    "#Se exportan los datos procesados  a la siguiente capa 'silver'\n",
    "data_path = Path(os.getcwd()).parent / \"data\"\n",
    "train_output_path = data_path / \"silver\" / \"dreadditCleanTrain.csv\"\n",
    "test_output_path = data_path / \"silver\" / \"dreadditCleanTest.csv\"\n",
    "\n",
    "df_train.to_csv(train_output_path, index=False)\n",
    "df_test.to_csv(test_output_path, index= False)"
   ]
  }
 ],
 "metadata": {
  "kernelspec": {
   "display_name": "PDM Environment",
   "language": "python",
   "name": "tesis_pdm"
  },
  "language_info": {
   "codemirror_mode": {
    "name": "ipython",
    "version": 3
   },
   "file_extension": ".py",
   "mimetype": "text/x-python",
   "name": "python",
   "nbconvert_exporter": "python",
   "pygments_lexer": "ipython3",
   "version": "3.10.0"
  }
 },
 "nbformat": 4,
 "nbformat_minor": 2
}
