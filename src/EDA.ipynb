{
 "cells": [
  {
   "cell_type": "markdown",
   "metadata": {},
   "source": [
    "#### Pendientes"
   ]
  },
  {
   "cell_type": "code",
   "execution_count": 1,
   "metadata": {},
   "outputs": [],
   "source": [
    "#TODO 1: Revisar si las distribuciones vienen de una normal (CHECK)\n",
    "#TODO 2: Revisar si estas diferencias son stadisticamente significativas (CHECK)\n",
    "#TODO 3: Quitar las stopwords y revisar si se mantiene esta distribucion (CHECK)\n",
    "#TODO 4: Si la distribucion no se mantiene, mantener pronombres en los stopwords (\"CHECK\")\n",
    "#TODO 5: sacar caracteristicas TFIDF \n",
    "#TODO 6: Entrenar 3 modelos con esas caracteristicas XGBoost,LightGBM, Logistic Regression\n",
    "#TODO 7: Sacar caracteristicas con BERT\n",
    "#TODO 8: Entrenar 3 modelos con esas caracteristicas XGBoost,LightGBM, Logistic Regression\n",
    "#TODO 9: realizar clasificacion explicita con 2 LLMs, pre-entrenadas y sin pre-entreno\n",
    "#TODO 10: Comparar resultados\n",
    "#TODO 11: Corroorar hallazgos con la literatura"
   ]
  },
  {
   "cell_type": "markdown",
   "metadata": {},
   "source": [
    "#### Config & Data ingestion"
   ]
  },
  {
   "cell_type": "code",
   "execution_count": 2,
   "metadata": {},
   "outputs": [
    {
     "name": "stderr",
     "output_type": "stream",
     "text": [
      "[nltk_data] Downloading package stopwords to\n",
      "[nltk_data]     C:\\Users\\franc\\AppData\\Roaming\\nltk_data...\n",
      "[nltk_data]   Package stopwords is already up-to-date!\n",
      "[nltk_data] Downloading package wordnet to\n",
      "[nltk_data]     C:\\Users\\franc\\AppData\\Roaming\\nltk_data...\n",
      "[nltk_data]   Package wordnet is already up-to-date!\n",
      "c:\\Users\\franc\\miniconda3\\envs\\tesis\\lib\\site-packages\\tqdm\\auto.py:21: TqdmWarning: IProgress not found. Please update jupyter and ipywidgets. See https://ipywidgets.readthedocs.io/en/stable/user_install.html\n",
      "  from .autonotebook import tqdm as notebook_tqdm\n"
     ]
    }
   ],
   "source": [
    "import os \n",
    "import numpy as np\n",
    "import pandas as pd\n",
    "import seaborn as sns\n",
    "from pathlib import Path\n",
    "import matplotlib.pyplot as plt\n",
    "from wordcloud import WordCloud,STOPWORDS\n",
    "import nltk\n",
    "nltk.download('stopwords')\n",
    "nltk.download('wordnet')\n",
    "from nltk.corpus import stopwords\n",
    "from string import punctuation\n",
    "import re\n",
    "import statsmodels.api as sm \n",
    "from scipy.stats import mannwhitneyu\n",
    "from scipy import stats\n",
    "import spacy \n",
    "from parallel_pandas import ParallelPandas\n",
    "import polars as pl\n",
    "from collections import Counter\n",
    "\n",
    "\n"
   ]
  },
  {
   "cell_type": "code",
   "execution_count": 3,
   "metadata": {},
   "outputs": [],
   "source": [
    "#initialize parallel-pandas\n",
    "ParallelPandas.initialize(n_cpu=16, split_factor=4, disable_pr_bar=False)"
   ]
  },
  {
   "cell_type": "code",
   "execution_count": 4,
   "metadata": {},
   "outputs": [],
   "source": [
    "#Functions definition \n",
    "\n",
    "def remove_stopwords(text, stopwords):\n",
    "    return \" \".join([word for word in str(text).split() if word not in stopwords])\n",
    "\n",
    "def remove_punctuation(text):\n",
    "    return text.translate(str.maketrans('','', punctuation))\n",
    "\n"
   ]
  },
  {
   "cell_type": "code",
   "execution_count": 5,
   "metadata": {},
   "outputs": [],
   "source": [
    "sns.set_theme(style =\"ticks\",context=\"paper\", rc={'figure.figsize':(8,4)})\n"
   ]
  },
  {
   "cell_type": "code",
   "execution_count": 6,
   "metadata": {},
   "outputs": [],
   "source": [
    "#Data Imports\n",
    "data_path = Path(os.getcwd()).parent / \"data\"\n",
    "train_path = data_path / \"bronze\" / \"dreaddit-train.csv\"\n",
    "test_path = data_path / \"bronze\" / \"dreaddit-test.csv\"\n",
    "\n",
    "train = pd.read_csv(train_path)\n",
    "test =  pd.read_csv(test_path)\n",
    "df = pd.concat([train,test]).reset_index(drop=True)"
   ]
  },
  {
   "cell_type": "code",
   "execution_count": 7,
   "metadata": {},
   "outputs": [
    {
     "name": "stdout",
     "output_type": "stream",
     "text": [
      "There are 3553 entries\n",
      "Dataset have 116 features\n"
     ]
    }
   ],
   "source": [
    "\n",
    "print(f\"There are {df.shape[0]} entries\")\n",
    "print(f\"Dataset have {df.shape[1]} features\")"
   ]
  },
  {
   "cell_type": "code",
   "execution_count": 8,
   "metadata": {},
   "outputs": [
    {
     "name": "stdout",
     "output_type": "stream",
     "text": [
      "There is a confirmation that labels are balanced\n"
     ]
    },
    {
     "data": {
      "image/png": "[encoded data removed]",
      "text/plain": [
       "<Figure size 800x400 with 1 Axes>"
      ]
     },
     "metadata": {},
     "output_type": "display_data"
    }
   ],
   "source": [
    "ax= sns.barplot(df.value_counts(\"label\").reset_index(), x=\"label\", y=\"count\")\n",
    "ax.set_title('Distribution of labels', fontsize=16)\n",
    "print(\"There is a confirmation that labels are balanced\")\n"
   ]
  },
  {
   "cell_type": "markdown",
   "metadata": {},
   "source": [
    "#### Data Cleaning/ Initial Data wrangling\n"
   ]
  },
  {
   "cell_type": "code",
   "execution_count": 9,
   "metadata": {},
   "outputs": [],
   "source": [
    "#df[\"text\"] = df.text.str.lower().apply(remove_punctuation).str.strip()\n",
    "nlp = spacy.load(\"en_core_web_sm\")\n",
    "singular_pronouns = [\"i\", \"you\", \"he\",\"she\",\"it \", \"me\", \"him\",\"her\", \"my\",\"mine\",\n",
    "                     \"your\",\"yours\", \"his\",\"her\", \"hers\", \"its\",\"myself\"]\n",
    "plural_pronouns = [\"we\", \"they\", \"us\",\"them\", \"our\", \"ours\", \"their\",\"theirs\"]\n",
    "#stop = nlp.Defaults.stop_words\n",
    "stop = [x for x in nlp.Defaults.stop_words if x not in singular_pronouns and x not in plural_pronouns]"
   ]
  },
  {
   "cell_type": "code",
   "execution_count": 10,
   "metadata": {},
   "outputs": [],
   "source": [
    "def clean_text(text, stopwords):\n",
    "    doc=nlp(text.lower())\n",
    "    txt_tokens = [token.lemma_ for token in doc if token.is_punct !=True and token.text not in stopwords]\n",
    "    return txt_tokens"
   ]
  },
  {
   "cell_type": "code",
   "execution_count": 11,
   "metadata": {},
   "outputs": [],
   "source": [
    "df[\"text_clean\"] = df[\"text\"].apply(clean_text,args= (stop,))\n"
   ]
  },
  {
   "cell_type": "markdown",
   "metadata": {},
   "source": [
    "#### **Uso de lenguage en singular entre los labels**\n",
    "\n",
    "¿Los casos positivos para ansiedad tienen un mayor uso de pronombres en sigular?"
   ]
  },
  {
   "cell_type": "code",
   "execution_count": null,
   "metadata": {},
   "outputs": [],
   "source": [
    "def flatten_comprehension(matrix):\n",
    "     return [item for row in matrix for item in row]\n"
   ]
  },
  {
   "cell_type": "code",
   "execution_count": null,
   "metadata": {},
   "outputs": [],
   "source": [
    "mostCommonStress = Counter(flatten_comprehension(df.query(\"label ==1\")[\"text_clean\"].to_list())).most_common(1000)\n",
    "mostCommonNoStress =Counter(flatten_comprehension(df.query(\"label ==0\")[\"text_clean\"].to_list())).most_common(1000)"
   ]
  },
  {
   "cell_type": "code",
   "execution_count": null,
   "metadata": {},
   "outputs": [],
   "source": [
    "def word_freq_to_df(mostCommonTuple):\n",
    "    tmp1 = [x[0] for x in mostCommonTuple]\n",
    "    tmp2 = [x[1] for x in mostCommonTuple]\n",
    "    return pd.DataFrame({\"words\":tmp1, \"freq\":tmp2})\n"
   ]
  },
  {
   "cell_type": "code",
   "execution_count": null,
   "metadata": {},
   "outputs": [],
   "source": [
    "mostCommonStress = word_freq_to_df(mostCommonStress)\n",
    "mostCommonNoStress = word_freq_to_df(mostCommonNoStress)"
   ]
  },
  {
   "cell_type": "code",
   "execution_count": null,
   "metadata": {},
   "outputs": [],
   "source": [
    "fig, axes = plt.subplots(1,2, figsize=(8,3))\n",
    "fig.suptitle(\"Palabras más comunes \")\n",
    "ax1 = sns.barplot(data=mostCommonStress[:10],x=\"freq\", y=\"words\", ax=axes[0])\n",
    "ax1.set_title(\"Stress = True\")\n",
    "ax2 = sns.barplot(data=mostCommonNoStress[:10],x=\"freq\", y=\"words\", ax=axes[1])\n",
    "ax2.set_title(\"Stress = False\");\n"
   ]
  },
  {
   "cell_type": "code",
   "execution_count": null,
   "metadata": {},
   "outputs": [],
   "source": [
    "singularStress = mostCommonStress[mostCommonStress.words.isin(singular_pronouns)]\n",
    "singularNoStress = mostCommonNoStress[mostCommonNoStress.words.isin(singular_pronouns)]\n",
    "\n",
    "pluralStress = mostCommonStress[mostCommonStress.words.isin(plural_pronouns)]\n",
    "pluralNoStress = mostCommonNoStress[mostCommonNoStress.words.isin(plural_pronouns)]"
   ]
  },
  {
   "cell_type": "code",
   "execution_count": null,
   "metadata": {},
   "outputs": [],
   "source": [
    "def count_words(words, subset):\n",
    "    count=0\n",
    "    for item in subset:\n",
    "        count+= words.count(item)\n",
    "    return count   \n"
   ]
  },
  {
   "cell_type": "code",
   "execution_count": null,
   "metadata": {},
   "outputs": [],
   "source": [
    "df[\"count_singular\"] = df[\"text_clean\"].apply(count_words,args=(singular_pronouns,))\n",
    "df[\"count_plural\"] = df[\"text_clean\"].apply(count_words,args=(plural_pronouns,))"
   ]
  },
  {
   "cell_type": "code",
   "execution_count": null,
   "metadata": {},
   "outputs": [],
   "source": [
    "fig, axes = plt.subplots(1,2, figsize=(9,4))\n",
    "fig.suptitle(\"Distribution of pronouns by label\")\n",
    "ax1 = sns.histplot(df,x=\"count_singular\", bins=15,hue=\"label\", kde=True, ax=axes[0])\n",
    "ax1.set_title(\"Count of singular pronouns\")\n",
    "ax2 =sns.histplot(df,x=\"count_plural\", bins=15,hue=\"label\", kde=True, ax=axes[1])\n",
    "ax2.set_title(\"Count of plural pronouns\");"
   ]
  },
  {
   "cell_type": "code",
   "execution_count": null,
   "metadata": {},
   "outputs": [],
   "source": [
    "#cloud_stress=WordCloud(background_color='pink',).generate(\" \".join(df.query(\"label ==1\").text.values))\n",
    "#cloud_noStress=WordCloud().generate(\" \".join(df.query(\"label ==0\").text.values))\n",
    "\n",
    "#plt.subplot(1,2,1)\n",
    "#plt.axis('off')\n",
    "#plt.imshow(cloud_stress)\n",
    "\n",
    "#plt.subplot(1,2,2)\n",
    "#plt.axis('off')\n",
    "#plt.imshow(cloud_noStress)\n",
    "\n",
    "#cloud_stress=WordCloud(background_color='pink',).generate(\" \".join(df.query(\"label ==1\").text_clean.values))\n",
    "#cloud_noStress=WordCloud().generate(\" \".join(df.query(\"label ==0\").text_clean.values))\n",
    "\n",
    "#plt.subplot(1,2,1)\n",
    "#plt.axis('off')\n",
    "#plt.imshow(cloud_stress)\n",
    "\n",
    "#plt.subplot(1,2,2)\n",
    "#plt.axis('off')\n",
    "#plt.imshow(cloud_noStress)"
   ]
  },
  {
   "cell_type": "markdown",
   "metadata": {},
   "source": [
    "En un principio parece ser que no son diferentes, sin embargo, es necesario realizar una prueba estadistica para confirmarlo."
   ]
  },
  {
   "cell_type": "code",
   "execution_count": null,
   "metadata": {},
   "outputs": [],
   "source": [
    "sm.qqplot(df.count_singular, line ='45');\n",
    "sm.qqplot(df.count_plural, line ='45');"
   ]
  },
  {
   "cell_type": "markdown",
   "metadata": {},
   "source": [
    "Se comprueba que las distribuciones NO son normales, por lo tanto, se deben usar pruebas no paramétricas para compararlas, "
   ]
  },
  {
   "cell_type": "code",
   "execution_count": null,
   "metadata": {},
   "outputs": [],
   "source": [
    "singularPronounsStress = df.query(\"label==1\").count_singular\n",
    "singularPronounsNoStress = df.query(\"label==0\").count_singular\n",
    "\n",
    "#pluralPronounsStress = df.query(\"label==1\").count_plural\n",
    "#pluralPronounsNoStress = df.query(\"label==0\").count_plural\n",
    "\n",
    "U, p_singular = mannwhitneyu(singularPronounsStress, singularPronounsNoStress)\n",
    "#U, p_plural = mannwhitneyu(pluralPronounsStress, pluralPronounsNoStress)\n",
    "\n",
    "print(f\"P-value para pronombres singulares: {p_singular}\")\n",
    "#print(f\"P-value para pronombres plurales: {p_plural}\")"
   ]
  },
  {
   "cell_type": "code",
   "execution_count": null,
   "metadata": {},
   "outputs": [],
   "source": [
    "\"two-sided: The null hypothesis is that the two distributions are identical, F(x)=G(x) for all x; the alternative is that they are not identical.\""
   ]
  },
  {
   "cell_type": "code",
   "execution_count": null,
   "metadata": {},
   "outputs": [],
   "source": [
    "#singularPronounsStress = df.query(\"label==1\").count_singular\n",
    "#singularPronounsNoStress = df.query(\"label==0\").count_singular\n",
    "\n",
    "#pluralPronounsStress = df.query(\"label==1\").count_plural\n",
    "#pluralPronounsNoStress = df.query(\"label==0\").count_plural\n",
    "\n",
    "#U, p_singular = stats.kstest(singularPronounsStress, singularPronounsNoStress)\n",
    "#U, p_plural = stats.kstest(pluralPronounsStress, pluralPronounsNoStress)\n",
    "#KS solo usa datos continuos, probablemente no se aplica en este caso (resultados contrarios a mann whitney cuando es one sided)\n",
    "#print(f\"P-value para pronombres singulares: {p_singular}\")\n",
    "#print(f\"P-value para pronombres plurales: {p_plural}\")"
   ]
  },
  {
   "cell_type": "markdown",
   "metadata": {},
   "source": [
    "El test estadistico nos comprueba que la distribucion de pronombres usados por personas con estres y sin estres es similar. Indicando que el uso de pronombres singulares por personas estresadas no difiere mucho del uso de personas no estresadas, esto no va acorde a la literatura, sin emabargo se explica dado que los estudios se realizaron con personas con trastornos mentales de diferente indole (depresion, ansiedad). "
   ]
  }
 ],
 "metadata": {
  "kernelspec": {
   "display_name": "tesis",
   "language": "python",
   "name": "python3"
  },
  "language_info": {
   "codemirror_mode": {
    "name": "ipython",
    "version": 3
   },
   "file_extension": ".py",
   "mimetype": "text/x-python",
   "name": "python",
   "nbconvert_exporter": "python",
   "pygments_lexer": "ipython3",
   "version": "3.10.0"
  }
 },
 "nbformat": 4,
 "nbformat_minor": 2
}
