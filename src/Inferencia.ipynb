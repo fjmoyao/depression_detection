{
 "cells": [
  {
   "cell_type": "code",
   "execution_count": 19,
   "metadata": {},
   "outputs": [],
   "source": [
    "import requests\n",
    "from dotenv import load_dotenv\n",
    "import os\n",
    "\n",
    "# Load environment variables from .env file\n",
    "load_dotenv()\n",
    "\n",
    "def get_label_score(data):\n",
    "    # Rename labels\n",
    "    label_map = {'LABEL_1': '1', 'LABEL_0': '0'}\n",
    "    \n",
    "    # Flatten the list (in case it's nested)\n",
    "    flat_list = [item for sublist in data for item in sublist]\n",
    "    \n",
    "    # Find the item with the highest score\n",
    "    highest = max(flat_list, key=lambda x: x['score'])\n",
    "    \n",
    "    # Return the transformed label and score\n",
    "    return {label_map[highest['label']]: highest['score']}\n"
   ]
  },
  {
   "cell_type": "code",
   "execution_count": null,
   "metadata": {},
   "outputs": [],
   "source": [
    "API_TOKEN = os.getenv('API_TOKEN')\n",
    "API_URL = \"https://api-inference.huggingface.co/models/WakandianEngineer/RoBERTa-stress-detection\"\n",
    "headers = {\"Authorization\": f\"Bearer {API_TOKEN}\"}\n"
   ]
  },
  {
   "cell_type": "code",
   "execution_count": 42,
   "metadata": {},
   "outputs": [],
   "source": [
    "input_text = \"\"\"\n",
    "I'm completely swamped and can't seem to catch a break. Every time I finish one task, two more pop up. It's getting really overwhelming \"\"\"\n",
    "\n",
    "def query(payload):\n",
    "\tresponse = requests.post(API_URL, headers=headers, json=payload)\n",
    "\treturn response.json()\n",
    "\t\n",
    "output = query({\n",
    "\t\"inputs\": input_text,\n",
    "})"
   ]
  },
  {
   "cell_type": "code",
   "execution_count": 43,
   "metadata": {},
   "outputs": [
    {
     "name": "stdout",
     "output_type": "stream",
     "text": [
      "{'1': 0.9997774958610535}\n"
     ]
    }
   ],
   "source": [
    "# Get transformed output\n",
    "result = get_label_score(output)\n",
    "print(result)"
   ]
  }
 ],
 "metadata": {
  "kernelspec": {
   "display_name": "Python 3",
   "language": "python",
   "name": "python3"
  },
  "language_info": {
   "codemirror_mode": {
    "name": "ipython",
    "version": 3
   },
   "file_extension": ".py",
   "mimetype": "text/x-python",
   "name": "python",
   "nbconvert_exporter": "python",
   "pygments_lexer": "ipython3",
   "version": "3.12.3"
  }
 },
 "nbformat": 4,
 "nbformat_minor": 2
}
